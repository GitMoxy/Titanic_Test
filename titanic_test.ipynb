{
 "cells": [
  {
   "cell_type": "code",
   "execution_count": 26,
   "metadata": {
    "collapsed": true
   },
   "outputs": [],
   "source": [
    "import pandas as pd\n",
    "import numpy as np\n",
    "import seaborn as sns\n",
    "import matplotlib.pyplot as plt"
   ]
  },
  {
   "cell_type": "code",
   "execution_count": 27,
   "outputs": [
    {
     "data": {
      "text/plain": "   PassengerId  Survived  Pclass  \\\n0            1         0       3   \n1            2         1       1   \n2            3         1       3   \n3            4         1       1   \n4            5         0       3   \n\n                                                Name     Sex   Age  SibSp  \\\n0                            Braund, Mr. Owen Harris    male  22.0      1   \n1  Cumings, Mrs. John Bradley (Florence Briggs Th...  female  38.0      1   \n2                             Heikkinen, Miss. Laina  female  26.0      0   \n3       Futrelle, Mrs. Jacques Heath (Lily May Peel)  female  35.0      1   \n4                           Allen, Mr. William Henry    male  35.0      0   \n\n   Parch            Ticket     Fare Cabin Embarked  \n0      0         A/5 21171   7.2500   NaN        S  \n1      0          PC 17599  71.2833   C85        C  \n2      0  STON/O2. 3101282   7.9250   NaN        S  \n3      0            113803  53.1000  C123        S  \n4      0            373450   8.0500   NaN        S  ",
      "text/html": "<div>\n<style scoped>\n    .dataframe tbody tr th:only-of-type {\n        vertical-align: middle;\n    }\n\n    .dataframe tbody tr th {\n        vertical-align: top;\n    }\n\n    .dataframe thead th {\n        text-align: right;\n    }\n</style>\n<table border=\"1\" class=\"dataframe\">\n  <thead>\n    <tr style=\"text-align: right;\">\n      <th></th>\n      <th>PassengerId</th>\n      <th>Survived</th>\n      <th>Pclass</th>\n      <th>Name</th>\n      <th>Sex</th>\n      <th>Age</th>\n      <th>SibSp</th>\n      <th>Parch</th>\n      <th>Ticket</th>\n      <th>Fare</th>\n      <th>Cabin</th>\n      <th>Embarked</th>\n    </tr>\n  </thead>\n  <tbody>\n    <tr>\n      <th>0</th>\n      <td>1</td>\n      <td>0</td>\n      <td>3</td>\n      <td>Braund, Mr. Owen Harris</td>\n      <td>male</td>\n      <td>22.0</td>\n      <td>1</td>\n      <td>0</td>\n      <td>A/5 21171</td>\n      <td>7.2500</td>\n      <td>NaN</td>\n      <td>S</td>\n    </tr>\n    <tr>\n      <th>1</th>\n      <td>2</td>\n      <td>1</td>\n      <td>1</td>\n      <td>Cumings, Mrs. John Bradley (Florence Briggs Th...</td>\n      <td>female</td>\n      <td>38.0</td>\n      <td>1</td>\n      <td>0</td>\n      <td>PC 17599</td>\n      <td>71.2833</td>\n      <td>C85</td>\n      <td>C</td>\n    </tr>\n    <tr>\n      <th>2</th>\n      <td>3</td>\n      <td>1</td>\n      <td>3</td>\n      <td>Heikkinen, Miss. Laina</td>\n      <td>female</td>\n      <td>26.0</td>\n      <td>0</td>\n      <td>0</td>\n      <td>STON/O2. 3101282</td>\n      <td>7.9250</td>\n      <td>NaN</td>\n      <td>S</td>\n    </tr>\n    <tr>\n      <th>3</th>\n      <td>4</td>\n      <td>1</td>\n      <td>1</td>\n      <td>Futrelle, Mrs. Jacques Heath (Lily May Peel)</td>\n      <td>female</td>\n      <td>35.0</td>\n      <td>1</td>\n      <td>0</td>\n      <td>113803</td>\n      <td>53.1000</td>\n      <td>C123</td>\n      <td>S</td>\n    </tr>\n    <tr>\n      <th>4</th>\n      <td>5</td>\n      <td>0</td>\n      <td>3</td>\n      <td>Allen, Mr. William Henry</td>\n      <td>male</td>\n      <td>35.0</td>\n      <td>0</td>\n      <td>0</td>\n      <td>373450</td>\n      <td>8.0500</td>\n      <td>NaN</td>\n      <td>S</td>\n    </tr>\n  </tbody>\n</table>\n</div>"
     },
     "execution_count": 27,
     "metadata": {},
     "output_type": "execute_result"
    }
   ],
   "source": [
    "titanic = pd.read_csv(\"titanic_data.csv\")\n",
    "titanic.head()"
   ],
   "metadata": {
    "collapsed": false
   }
  },
  {
   "cell_type": "code",
   "execution_count": 28,
   "outputs": [
    {
     "data": {
      "text/plain": "       PassengerId    Survived      Pclass         Age       SibSp  \\\ncount   891.000000  891.000000  891.000000  714.000000  891.000000   \nmean    446.000000    0.383838    2.308642   29.699118    0.523008   \nstd     257.353842    0.486592    0.836071   14.526497    1.102743   \nmin       1.000000    0.000000    1.000000    0.420000    0.000000   \n25%     223.500000    0.000000    2.000000   20.125000    0.000000   \n50%     446.000000    0.000000    3.000000   28.000000    0.000000   \n75%     668.500000    1.000000    3.000000   38.000000    1.000000   \nmax     891.000000    1.000000    3.000000   80.000000    8.000000   \n\n            Parch        Fare  \ncount  891.000000  891.000000  \nmean     0.381594   32.204208  \nstd      0.806057   49.693429  \nmin      0.000000    0.000000  \n25%      0.000000    7.910400  \n50%      0.000000   14.454200  \n75%      0.000000   31.000000  \nmax      6.000000  512.329200  ",
      "text/html": "<div>\n<style scoped>\n    .dataframe tbody tr th:only-of-type {\n        vertical-align: middle;\n    }\n\n    .dataframe tbody tr th {\n        vertical-align: top;\n    }\n\n    .dataframe thead th {\n        text-align: right;\n    }\n</style>\n<table border=\"1\" class=\"dataframe\">\n  <thead>\n    <tr style=\"text-align: right;\">\n      <th></th>\n      <th>PassengerId</th>\n      <th>Survived</th>\n      <th>Pclass</th>\n      <th>Age</th>\n      <th>SibSp</th>\n      <th>Parch</th>\n      <th>Fare</th>\n    </tr>\n  </thead>\n  <tbody>\n    <tr>\n      <th>count</th>\n      <td>891.000000</td>\n      <td>891.000000</td>\n      <td>891.000000</td>\n      <td>714.000000</td>\n      <td>891.000000</td>\n      <td>891.000000</td>\n      <td>891.000000</td>\n    </tr>\n    <tr>\n      <th>mean</th>\n      <td>446.000000</td>\n      <td>0.383838</td>\n      <td>2.308642</td>\n      <td>29.699118</td>\n      <td>0.523008</td>\n      <td>0.381594</td>\n      <td>32.204208</td>\n    </tr>\n    <tr>\n      <th>std</th>\n      <td>257.353842</td>\n      <td>0.486592</td>\n      <td>0.836071</td>\n      <td>14.526497</td>\n      <td>1.102743</td>\n      <td>0.806057</td>\n      <td>49.693429</td>\n    </tr>\n    <tr>\n      <th>min</th>\n      <td>1.000000</td>\n      <td>0.000000</td>\n      <td>1.000000</td>\n      <td>0.420000</td>\n      <td>0.000000</td>\n      <td>0.000000</td>\n      <td>0.000000</td>\n    </tr>\n    <tr>\n      <th>25%</th>\n      <td>223.500000</td>\n      <td>0.000000</td>\n      <td>2.000000</td>\n      <td>20.125000</td>\n      <td>0.000000</td>\n      <td>0.000000</td>\n      <td>7.910400</td>\n    </tr>\n    <tr>\n      <th>50%</th>\n      <td>446.000000</td>\n      <td>0.000000</td>\n      <td>3.000000</td>\n      <td>28.000000</td>\n      <td>0.000000</td>\n      <td>0.000000</td>\n      <td>14.454200</td>\n    </tr>\n    <tr>\n      <th>75%</th>\n      <td>668.500000</td>\n      <td>1.000000</td>\n      <td>3.000000</td>\n      <td>38.000000</td>\n      <td>1.000000</td>\n      <td>0.000000</td>\n      <td>31.000000</td>\n    </tr>\n    <tr>\n      <th>max</th>\n      <td>891.000000</td>\n      <td>1.000000</td>\n      <td>3.000000</td>\n      <td>80.000000</td>\n      <td>8.000000</td>\n      <td>6.000000</td>\n      <td>512.329200</td>\n    </tr>\n  </tbody>\n</table>\n</div>"
     },
     "execution_count": 28,
     "metadata": {},
     "output_type": "execute_result"
    }
   ],
   "source": [
    "titanic.describe()"
   ],
   "metadata": {
    "collapsed": false
   }
  },
  {
   "cell_type": "code",
   "execution_count": 29,
   "outputs": [],
   "source": [
    "class_category = pd.api.types.CategoricalDtype(categories=[3,2,1], ordered=True)\n",
    "titanic.Pclass = titanic.Pclass.astype(class_category)"
   ],
   "metadata": {
    "collapsed": false
   }
  },
  {
   "cell_type": "code",
   "execution_count": 30,
   "outputs": [
    {
     "data": {
      "text/plain": "0    608\n1    209\n2     28\n4     18\n3     16\n8      7\n5      5\nName: SibSp, dtype: int64"
     },
     "execution_count": 30,
     "metadata": {},
     "output_type": "execute_result"
    }
   ],
   "source": [
    "titanic.SibSp.value_counts(dropna=False)"
   ],
   "metadata": {
    "collapsed": false
   }
  },
  {
   "cell_type": "code",
   "execution_count": 31,
   "outputs": [],
   "source": [
    "sibling_category = pd.CategoricalDtype(categories=[i for i in range(9)], ordered=True)\n",
    "titanic.SibSp = titanic.SibSp.astype(sibling_category)"
   ],
   "metadata": {
    "collapsed": false
   }
  },
  {
   "cell_type": "code",
   "execution_count": 32,
   "outputs": [],
   "source": [
    "sex_category = pd.CategoricalDtype(categories=['male', 'female'])\n",
    "titanic.Sex = titanic.Sex.astype(sex_category)"
   ],
   "metadata": {
    "collapsed": false
   }
  },
  {
   "cell_type": "code",
   "execution_count": 53,
   "outputs": [
    {
     "data": {
      "text/plain": "0      1\n1      1\n2      0\n3      1\n4      0\n      ..\n886    0\n887    0\n888    1\n889    0\n890    0\nName: SibSp, Length: 891, dtype: category\nCategories (9, int64): [0 < 1 < 2 < 3 ... 5 < 6 < 7 < 8]"
     },
     "execution_count": 53,
     "metadata": {},
     "output_type": "execute_result"
    }
   ],
   "source": [
    "titanic.SibSp"
   ],
   "metadata": {
    "collapsed": false
   }
  },
  {
   "cell_type": "code",
   "execution_count": 34,
   "outputs": [
    {
     "data": {
      "text/plain": "PassengerId       int64\nSurvived          int64\nPclass         category\nName             object\nSex            category\nAge             float64\nSibSp          category\nParch             int64\nTicket           object\nFare            float64\nCabin            object\nEmbarked         object\ndtype: object"
     },
     "execution_count": 34,
     "metadata": {},
     "output_type": "execute_result"
    }
   ],
   "source": [
    "titanic.dtypes"
   ],
   "metadata": {
    "collapsed": false
   }
  },
  {
   "cell_type": "code",
   "execution_count": 35,
   "outputs": [
    {
     "data": {
      "text/plain": "     PassengerId  Survived Pclass  \\\n1              2         1      1   \n3              4         1      1   \n6              7         0      1   \n9             10         1      2   \n11            12         1      1   \n..           ...       ...    ...   \n880          881         1      2   \n883          884         0      2   \n886          887         0      2   \n887          888         1      1   \n889          890         1      1   \n\n                                                  Name     Sex   Age SibSp  \\\n1    Cumings, Mrs. John Bradley (Florence Briggs Th...  female  38.0     1   \n3         Futrelle, Mrs. Jacques Heath (Lily May Peel)  female  35.0     1   \n6                              McCarthy, Mr. Timothy J    male  54.0     0   \n9                  Nasser, Mrs. Nicholas (Adele Achem)  female  14.0     1   \n11                            Bonnell, Miss. Elizabeth  female  58.0     0   \n..                                                 ...     ...   ...   ...   \n880       Shelley, Mrs. William (Imanita Parrish Hall)  female  25.0     0   \n883                      Banfield, Mr. Frederick James    male  28.0     0   \n886                              Montvila, Rev. Juozas    male  27.0     0   \n887                       Graham, Miss. Margaret Edith  female  19.0     0   \n889                              Behr, Mr. Karl Howell    male  26.0     0   \n\n     Parch            Ticket     Fare Cabin Embarked  \n1        0          PC 17599  71.2833   C85        C  \n3        0            113803  53.1000  C123        S  \n6        0             17463  51.8625   E46        S  \n9        0            237736  30.0708   NaN        C  \n11       0            113783  26.5500  C103        S  \n..     ...               ...      ...   ...      ...  \n880      1            230433  26.0000   NaN        S  \n883      0  C.A./SOTON 34068  10.5000   NaN        S  \n886      0            211536  13.0000   NaN        S  \n887      0            112053  30.0000   B42        S  \n889      0            111369  30.0000  C148        C  \n\n[400 rows x 12 columns]",
      "text/html": "<div>\n<style scoped>\n    .dataframe tbody tr th:only-of-type {\n        vertical-align: middle;\n    }\n\n    .dataframe tbody tr th {\n        vertical-align: top;\n    }\n\n    .dataframe thead th {\n        text-align: right;\n    }\n</style>\n<table border=\"1\" class=\"dataframe\">\n  <thead>\n    <tr style=\"text-align: right;\">\n      <th></th>\n      <th>PassengerId</th>\n      <th>Survived</th>\n      <th>Pclass</th>\n      <th>Name</th>\n      <th>Sex</th>\n      <th>Age</th>\n      <th>SibSp</th>\n      <th>Parch</th>\n      <th>Ticket</th>\n      <th>Fare</th>\n      <th>Cabin</th>\n      <th>Embarked</th>\n    </tr>\n  </thead>\n  <tbody>\n    <tr>\n      <th>1</th>\n      <td>2</td>\n      <td>1</td>\n      <td>1</td>\n      <td>Cumings, Mrs. John Bradley (Florence Briggs Th...</td>\n      <td>female</td>\n      <td>38.0</td>\n      <td>1</td>\n      <td>0</td>\n      <td>PC 17599</td>\n      <td>71.2833</td>\n      <td>C85</td>\n      <td>C</td>\n    </tr>\n    <tr>\n      <th>3</th>\n      <td>4</td>\n      <td>1</td>\n      <td>1</td>\n      <td>Futrelle, Mrs. Jacques Heath (Lily May Peel)</td>\n      <td>female</td>\n      <td>35.0</td>\n      <td>1</td>\n      <td>0</td>\n      <td>113803</td>\n      <td>53.1000</td>\n      <td>C123</td>\n      <td>S</td>\n    </tr>\n    <tr>\n      <th>6</th>\n      <td>7</td>\n      <td>0</td>\n      <td>1</td>\n      <td>McCarthy, Mr. Timothy J</td>\n      <td>male</td>\n      <td>54.0</td>\n      <td>0</td>\n      <td>0</td>\n      <td>17463</td>\n      <td>51.8625</td>\n      <td>E46</td>\n      <td>S</td>\n    </tr>\n    <tr>\n      <th>9</th>\n      <td>10</td>\n      <td>1</td>\n      <td>2</td>\n      <td>Nasser, Mrs. Nicholas (Adele Achem)</td>\n      <td>female</td>\n      <td>14.0</td>\n      <td>1</td>\n      <td>0</td>\n      <td>237736</td>\n      <td>30.0708</td>\n      <td>NaN</td>\n      <td>C</td>\n    </tr>\n    <tr>\n      <th>11</th>\n      <td>12</td>\n      <td>1</td>\n      <td>1</td>\n      <td>Bonnell, Miss. Elizabeth</td>\n      <td>female</td>\n      <td>58.0</td>\n      <td>0</td>\n      <td>0</td>\n      <td>113783</td>\n      <td>26.5500</td>\n      <td>C103</td>\n      <td>S</td>\n    </tr>\n    <tr>\n      <th>...</th>\n      <td>...</td>\n      <td>...</td>\n      <td>...</td>\n      <td>...</td>\n      <td>...</td>\n      <td>...</td>\n      <td>...</td>\n      <td>...</td>\n      <td>...</td>\n      <td>...</td>\n      <td>...</td>\n      <td>...</td>\n    </tr>\n    <tr>\n      <th>880</th>\n      <td>881</td>\n      <td>1</td>\n      <td>2</td>\n      <td>Shelley, Mrs. William (Imanita Parrish Hall)</td>\n      <td>female</td>\n      <td>25.0</td>\n      <td>0</td>\n      <td>1</td>\n      <td>230433</td>\n      <td>26.0000</td>\n      <td>NaN</td>\n      <td>S</td>\n    </tr>\n    <tr>\n      <th>883</th>\n      <td>884</td>\n      <td>0</td>\n      <td>2</td>\n      <td>Banfield, Mr. Frederick James</td>\n      <td>male</td>\n      <td>28.0</td>\n      <td>0</td>\n      <td>0</td>\n      <td>C.A./SOTON 34068</td>\n      <td>10.5000</td>\n      <td>NaN</td>\n      <td>S</td>\n    </tr>\n    <tr>\n      <th>886</th>\n      <td>887</td>\n      <td>0</td>\n      <td>2</td>\n      <td>Montvila, Rev. Juozas</td>\n      <td>male</td>\n      <td>27.0</td>\n      <td>0</td>\n      <td>0</td>\n      <td>211536</td>\n      <td>13.0000</td>\n      <td>NaN</td>\n      <td>S</td>\n    </tr>\n    <tr>\n      <th>887</th>\n      <td>888</td>\n      <td>1</td>\n      <td>1</td>\n      <td>Graham, Miss. Margaret Edith</td>\n      <td>female</td>\n      <td>19.0</td>\n      <td>0</td>\n      <td>0</td>\n      <td>112053</td>\n      <td>30.0000</td>\n      <td>B42</td>\n      <td>S</td>\n    </tr>\n    <tr>\n      <th>889</th>\n      <td>890</td>\n      <td>1</td>\n      <td>1</td>\n      <td>Behr, Mr. Karl Howell</td>\n      <td>male</td>\n      <td>26.0</td>\n      <td>0</td>\n      <td>0</td>\n      <td>111369</td>\n      <td>30.0000</td>\n      <td>C148</td>\n      <td>C</td>\n    </tr>\n  </tbody>\n</table>\n<p>400 rows × 12 columns</p>\n</div>"
     },
     "execution_count": 35,
     "metadata": {},
     "output_type": "execute_result"
    }
   ],
   "source": [
    "titanic[titanic.Pclass > 3]"
   ],
   "metadata": {
    "collapsed": false
   }
  },
  {
   "cell_type": "code",
   "execution_count": 36,
   "outputs": [],
   "source": [
    "age_bins = [0, 18, 40, 65,120]\n",
    "age_bin_labels = ['Child', 'Adult', 'Middle Aged', 'Senior']\n",
    "\n",
    "titanic.insert(value=pd.cut(titanic.Age, bins=age_bins, labels=age_bin_labels), loc=6, column='Age Range')"
   ],
   "metadata": {
    "collapsed": false
   }
  },
  {
   "cell_type": "code",
   "execution_count": 37,
   "outputs": [
    {
     "data": {
      "text/plain": "PassengerId       int64\nSurvived          int64\nPclass         category\nName             object\nSex            category\nAge             float64\nAge Range      category\nSibSp          category\nParch             int64\nTicket           object\nFare            float64\nCabin            object\nEmbarked         object\ndtype: object"
     },
     "execution_count": 37,
     "metadata": {},
     "output_type": "execute_result"
    }
   ],
   "source": [
    "titanic.dtypes"
   ],
   "metadata": {
    "collapsed": false
   }
  },
  {
   "cell_type": "code",
   "execution_count": 38,
   "outputs": [
    {
     "data": {
      "text/plain": "      Age Age Range\n549   8.0     Child\n246  25.0     Adult\n540  36.0     Adult\n722  34.0     Adult\n826   NaN       NaN",
      "text/html": "<div>\n<style scoped>\n    .dataframe tbody tr th:only-of-type {\n        vertical-align: middle;\n    }\n\n    .dataframe tbody tr th {\n        vertical-align: top;\n    }\n\n    .dataframe thead th {\n        text-align: right;\n    }\n</style>\n<table border=\"1\" class=\"dataframe\">\n  <thead>\n    <tr style=\"text-align: right;\">\n      <th></th>\n      <th>Age</th>\n      <th>Age Range</th>\n    </tr>\n  </thead>\n  <tbody>\n    <tr>\n      <th>549</th>\n      <td>8.0</td>\n      <td>Child</td>\n    </tr>\n    <tr>\n      <th>246</th>\n      <td>25.0</td>\n      <td>Adult</td>\n    </tr>\n    <tr>\n      <th>540</th>\n      <td>36.0</td>\n      <td>Adult</td>\n    </tr>\n    <tr>\n      <th>722</th>\n      <td>34.0</td>\n      <td>Adult</td>\n    </tr>\n    <tr>\n      <th>826</th>\n      <td>NaN</td>\n      <td>NaN</td>\n    </tr>\n  </tbody>\n</table>\n</div>"
     },
     "execution_count": 38,
     "metadata": {},
     "output_type": "execute_result"
    }
   ],
   "source": [
    "titanic[['Age', 'Age Range']].sample(5)"
   ],
   "metadata": {
    "collapsed": false
   }
  },
  {
   "cell_type": "code",
   "execution_count": 39,
   "outputs": [
    {
     "data": {
      "text/plain": "0.125"
     },
     "execution_count": 39,
     "metadata": {},
     "output_type": "execute_result"
    }
   ],
   "source": [
    "titanic[titanic['Age Range'] > 'Middle Aged'].Survived.mean()"
   ],
   "metadata": {
    "collapsed": false
   }
  },
  {
   "cell_type": "code",
   "execution_count": 40,
   "outputs": [],
   "source": [
    "survivability_by_age_class_sex = titanic.groupby(['Age Range', 'Pclass', 'Sex'], as_index=False).agg([np.mean, 'count', np.sum])['Survived'].sort_values(by='mean', ascending=False)\n",
    "\n",
    "survivability_by_age_class_sex.rename(columns={'mean': 'pct survived', 'sum': 'no of survivors', 'count': 'total no of people'}, inplace=True)"
   ],
   "metadata": {
    "collapsed": false
   }
  },
  {
   "cell_type": "code",
   "execution_count": 41,
   "outputs": [
    {
     "data": {
      "text/plain": "(24, 3)"
     },
     "execution_count": 41,
     "metadata": {},
     "output_type": "execute_result"
    }
   ],
   "source": [
    "survivability_by_age_class_sex.shape"
   ],
   "metadata": {
    "collapsed": false
   }
  },
  {
   "cell_type": "code",
   "execution_count": 42,
   "outputs": [],
   "source": [
    "survivability_by_age_class_sex.reset_index(inplace=True)"
   ],
   "metadata": {
    "collapsed": false
   }
  },
  {
   "cell_type": "code",
   "execution_count": 43,
   "outputs": [
    {
     "data": {
      "text/plain": "      Age Range Pclass     Sex  pct survived  total no of people  \\\n0         Child      2  female      1.000000                  14   \n1         Adult      1  female      0.979167                  48   \n2   Middle Aged      1  female      0.961538                  26   \n3         Adult      2  female      0.914894                  47   \n4         Child      1  female      0.909091                  11   \n5   Middle Aged      2  female      0.846154                  13   \n6         Child      1    male      0.800000                   5   \n7         Child      2    male      0.600000                  15   \n8         Child      3  female      0.511628                  43   \n9         Adult      3  female      0.480000                  50   \n10        Adult      1    male      0.478261                  46   \n11  Middle Aged      1    male      0.282609                  46   \n12       Senior      1    male      0.250000                   4   \n13        Child      3    male      0.215686                  51   \n14        Adult      3    male      0.146199                 171   \n15  Middle Aged      3  female      0.111111                   9   \n16  Middle Aged      2    male      0.105263                  19   \n17  Middle Aged      3    male      0.068966                  29   \n18        Adult      2    male      0.063492                  63   \n19       Senior      3    male      0.000000                   2   \n20       Senior      2    male      0.000000                   2   \n21       Senior      3  female           NaN                   0   \n22       Senior      2  female           NaN                   0   \n23       Senior      1  female           NaN                   0   \n\n    no of survivors  \n0                14  \n1                47  \n2                25  \n3                43  \n4                10  \n5                11  \n6                 4  \n7                 9  \n8                22  \n9                24  \n10               22  \n11               13  \n12                1  \n13               11  \n14               25  \n15                1  \n16                2  \n17                2  \n18                4  \n19                0  \n20                0  \n21                0  \n22                0  \n23                0  ",
      "text/html": "<div>\n<style scoped>\n    .dataframe tbody tr th:only-of-type {\n        vertical-align: middle;\n    }\n\n    .dataframe tbody tr th {\n        vertical-align: top;\n    }\n\n    .dataframe thead th {\n        text-align: right;\n    }\n</style>\n<table border=\"1\" class=\"dataframe\">\n  <thead>\n    <tr style=\"text-align: right;\">\n      <th></th>\n      <th>Age Range</th>\n      <th>Pclass</th>\n      <th>Sex</th>\n      <th>pct survived</th>\n      <th>total no of people</th>\n      <th>no of survivors</th>\n    </tr>\n  </thead>\n  <tbody>\n    <tr>\n      <th>0</th>\n      <td>Child</td>\n      <td>2</td>\n      <td>female</td>\n      <td>1.000000</td>\n      <td>14</td>\n      <td>14</td>\n    </tr>\n    <tr>\n      <th>1</th>\n      <td>Adult</td>\n      <td>1</td>\n      <td>female</td>\n      <td>0.979167</td>\n      <td>48</td>\n      <td>47</td>\n    </tr>\n    <tr>\n      <th>2</th>\n      <td>Middle Aged</td>\n      <td>1</td>\n      <td>female</td>\n      <td>0.961538</td>\n      <td>26</td>\n      <td>25</td>\n    </tr>\n    <tr>\n      <th>3</th>\n      <td>Adult</td>\n      <td>2</td>\n      <td>female</td>\n      <td>0.914894</td>\n      <td>47</td>\n      <td>43</td>\n    </tr>\n    <tr>\n      <th>4</th>\n      <td>Child</td>\n      <td>1</td>\n      <td>female</td>\n      <td>0.909091</td>\n      <td>11</td>\n      <td>10</td>\n    </tr>\n    <tr>\n      <th>5</th>\n      <td>Middle Aged</td>\n      <td>2</td>\n      <td>female</td>\n      <td>0.846154</td>\n      <td>13</td>\n      <td>11</td>\n    </tr>\n    <tr>\n      <th>6</th>\n      <td>Child</td>\n      <td>1</td>\n      <td>male</td>\n      <td>0.800000</td>\n      <td>5</td>\n      <td>4</td>\n    </tr>\n    <tr>\n      <th>7</th>\n      <td>Child</td>\n      <td>2</td>\n      <td>male</td>\n      <td>0.600000</td>\n      <td>15</td>\n      <td>9</td>\n    </tr>\n    <tr>\n      <th>8</th>\n      <td>Child</td>\n      <td>3</td>\n      <td>female</td>\n      <td>0.511628</td>\n      <td>43</td>\n      <td>22</td>\n    </tr>\n    <tr>\n      <th>9</th>\n      <td>Adult</td>\n      <td>3</td>\n      <td>female</td>\n      <td>0.480000</td>\n      <td>50</td>\n      <td>24</td>\n    </tr>\n    <tr>\n      <th>10</th>\n      <td>Adult</td>\n      <td>1</td>\n      <td>male</td>\n      <td>0.478261</td>\n      <td>46</td>\n      <td>22</td>\n    </tr>\n    <tr>\n      <th>11</th>\n      <td>Middle Aged</td>\n      <td>1</td>\n      <td>male</td>\n      <td>0.282609</td>\n      <td>46</td>\n      <td>13</td>\n    </tr>\n    <tr>\n      <th>12</th>\n      <td>Senior</td>\n      <td>1</td>\n      <td>male</td>\n      <td>0.250000</td>\n      <td>4</td>\n      <td>1</td>\n    </tr>\n    <tr>\n      <th>13</th>\n      <td>Child</td>\n      <td>3</td>\n      <td>male</td>\n      <td>0.215686</td>\n      <td>51</td>\n      <td>11</td>\n    </tr>\n    <tr>\n      <th>14</th>\n      <td>Adult</td>\n      <td>3</td>\n      <td>male</td>\n      <td>0.146199</td>\n      <td>171</td>\n      <td>25</td>\n    </tr>\n    <tr>\n      <th>15</th>\n      <td>Middle Aged</td>\n      <td>3</td>\n      <td>female</td>\n      <td>0.111111</td>\n      <td>9</td>\n      <td>1</td>\n    </tr>\n    <tr>\n      <th>16</th>\n      <td>Middle Aged</td>\n      <td>2</td>\n      <td>male</td>\n      <td>0.105263</td>\n      <td>19</td>\n      <td>2</td>\n    </tr>\n    <tr>\n      <th>17</th>\n      <td>Middle Aged</td>\n      <td>3</td>\n      <td>male</td>\n      <td>0.068966</td>\n      <td>29</td>\n      <td>2</td>\n    </tr>\n    <tr>\n      <th>18</th>\n      <td>Adult</td>\n      <td>2</td>\n      <td>male</td>\n      <td>0.063492</td>\n      <td>63</td>\n      <td>4</td>\n    </tr>\n    <tr>\n      <th>19</th>\n      <td>Senior</td>\n      <td>3</td>\n      <td>male</td>\n      <td>0.000000</td>\n      <td>2</td>\n      <td>0</td>\n    </tr>\n    <tr>\n      <th>20</th>\n      <td>Senior</td>\n      <td>2</td>\n      <td>male</td>\n      <td>0.000000</td>\n      <td>2</td>\n      <td>0</td>\n    </tr>\n    <tr>\n      <th>21</th>\n      <td>Senior</td>\n      <td>3</td>\n      <td>female</td>\n      <td>NaN</td>\n      <td>0</td>\n      <td>0</td>\n    </tr>\n    <tr>\n      <th>22</th>\n      <td>Senior</td>\n      <td>2</td>\n      <td>female</td>\n      <td>NaN</td>\n      <td>0</td>\n      <td>0</td>\n    </tr>\n    <tr>\n      <th>23</th>\n      <td>Senior</td>\n      <td>1</td>\n      <td>female</td>\n      <td>NaN</td>\n      <td>0</td>\n      <td>0</td>\n    </tr>\n  </tbody>\n</table>\n</div>"
     },
     "execution_count": 43,
     "metadata": {},
     "output_type": "execute_result"
    }
   ],
   "source": [
    "survivability_by_age_class_sex"
   ],
   "metadata": {
    "collapsed": false
   }
  },
  {
   "cell_type": "code",
   "execution_count": 44,
   "outputs": [
    {
     "data": {
      "text/plain": "-0.5064272698396611"
     },
     "execution_count": 44,
     "metadata": {},
     "output_type": "execute_result"
    }
   ],
   "source": [
    "survivability_by_age_class_sex.Pclass.corr(survivability_by_age_class_sex['pct survived'])"
   ],
   "metadata": {
    "collapsed": false
   }
  },
  {
   "cell_type": "code",
   "execution_count": 45,
   "outputs": [
    {
     "data": {
      "text/plain": "S      644\nC      168\nQ       77\nNaN      2\nName: Embarked, dtype: int64"
     },
     "execution_count": 45,
     "metadata": {},
     "output_type": "execute_result"
    }
   ],
   "source": [
    "titanic.Embarked.value_counts(dropna=False)"
   ],
   "metadata": {
    "collapsed": false
   }
  },
  {
   "cell_type": "code",
   "execution_count": 46,
   "outputs": [],
   "source": [
    "titanic.Embarked = titanic.Embarked.map({'C': 'Cherbourg', 'Q': 'Queenstown', 'S': 'Southampton'})"
   ],
   "metadata": {
    "collapsed": false
   }
  },
  {
   "cell_type": "code",
   "execution_count": 47,
   "outputs": [
    {
     "data": {
      "text/plain": "0    Southampton\n1      Cherbourg\n2    Southampton\n3    Southampton\n4    Southampton\nName: Embarked, dtype: object"
     },
     "execution_count": 47,
     "metadata": {},
     "output_type": "execute_result"
    }
   ],
   "source": [
    "titanic.Embarked.head()"
   ],
   "metadata": {
    "collapsed": false
   }
  },
  {
   "cell_type": "code",
   "execution_count": 48,
   "outputs": [],
   "source": [
    "embark_group = titanic.groupby(['Embarked'], as_index=False)"
   ],
   "metadata": {
    "collapsed": false
   }
  },
  {
   "cell_type": "code",
   "execution_count": 49,
   "outputs": [
    {
     "data": {
      "text/plain": "      Embarked  Survived\n0    Cherbourg  0.553571\n1   Queenstown  0.389610\n2  Southampton  0.336957",
      "text/html": "<div>\n<style scoped>\n    .dataframe tbody tr th:only-of-type {\n        vertical-align: middle;\n    }\n\n    .dataframe tbody tr th {\n        vertical-align: top;\n    }\n\n    .dataframe thead th {\n        text-align: right;\n    }\n</style>\n<table border=\"1\" class=\"dataframe\">\n  <thead>\n    <tr style=\"text-align: right;\">\n      <th></th>\n      <th>Embarked</th>\n      <th>Survived</th>\n    </tr>\n  </thead>\n  <tbody>\n    <tr>\n      <th>0</th>\n      <td>Cherbourg</td>\n      <td>0.553571</td>\n    </tr>\n    <tr>\n      <th>1</th>\n      <td>Queenstown</td>\n      <td>0.389610</td>\n    </tr>\n    <tr>\n      <th>2</th>\n      <td>Southampton</td>\n      <td>0.336957</td>\n    </tr>\n  </tbody>\n</table>\n</div>"
     },
     "execution_count": 49,
     "metadata": {},
     "output_type": "execute_result"
    }
   ],
   "source": [
    "embark_group.Survived.mean()"
   ],
   "metadata": {
    "collapsed": false
   }
  },
  {
   "cell_type": "code",
   "execution_count": 49,
   "outputs": [],
   "source": [],
   "metadata": {
    "collapsed": false
   }
  }
 ],
 "metadata": {
  "kernelspec": {
   "display_name": "Python 3",
   "language": "python",
   "name": "python3"
  },
  "language_info": {
   "codemirror_mode": {
    "name": "ipython",
    "version": 2
   },
   "file_extension": ".py",
   "mimetype": "text/x-python",
   "name": "python",
   "nbconvert_exporter": "python",
   "pygments_lexer": "ipython2",
   "version": "2.7.6"
  }
 },
 "nbformat": 4,
 "nbformat_minor": 0
}
