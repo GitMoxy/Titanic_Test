{
 "cells": [
  {
   "cell_type": "code",
   "execution_count": 1,
   "metadata": {
    "collapsed": true
   },
   "outputs": [],
   "source": [
    "import pandas as pd\n",
    "import numpy as np\n",
    "import seaborn as sns\n",
    "import matplotlib.pyplot as plt"
   ]
  },
  {
   "cell_type": "code",
   "execution_count": 2,
   "outputs": [
    {
     "data": {
      "text/plain": "   PassengerId  Survived  Pclass  \\\n0            1         0       3   \n1            2         1       1   \n2            3         1       3   \n3            4         1       1   \n4            5         0       3   \n\n                                                Name     Sex   Age  SibSp  \\\n0                            Braund, Mr. Owen Harris    male  22.0      1   \n1  Cumings, Mrs. John Bradley (Florence Briggs Th...  female  38.0      1   \n2                             Heikkinen, Miss. Laina  female  26.0      0   \n3       Futrelle, Mrs. Jacques Heath (Lily May Peel)  female  35.0      1   \n4                           Allen, Mr. William Henry    male  35.0      0   \n\n   Parch            Ticket     Fare Cabin Embarked  \n0      0         A/5 21171   7.2500   NaN        S  \n1      0          PC 17599  71.2833   C85        C  \n2      0  STON/O2. 3101282   7.9250   NaN        S  \n3      0            113803  53.1000  C123        S  \n4      0            373450   8.0500   NaN        S  ",
      "text/html": "<div>\n<style scoped>\n    .dataframe tbody tr th:only-of-type {\n        vertical-align: middle;\n    }\n\n    .dataframe tbody tr th {\n        vertical-align: top;\n    }\n\n    .dataframe thead th {\n        text-align: right;\n    }\n</style>\n<table border=\"1\" class=\"dataframe\">\n  <thead>\n    <tr style=\"text-align: right;\">\n      <th></th>\n      <th>PassengerId</th>\n      <th>Survived</th>\n      <th>Pclass</th>\n      <th>Name</th>\n      <th>Sex</th>\n      <th>Age</th>\n      <th>SibSp</th>\n      <th>Parch</th>\n      <th>Ticket</th>\n      <th>Fare</th>\n      <th>Cabin</th>\n      <th>Embarked</th>\n    </tr>\n  </thead>\n  <tbody>\n    <tr>\n      <th>0</th>\n      <td>1</td>\n      <td>0</td>\n      <td>3</td>\n      <td>Braund, Mr. Owen Harris</td>\n      <td>male</td>\n      <td>22.0</td>\n      <td>1</td>\n      <td>0</td>\n      <td>A/5 21171</td>\n      <td>7.2500</td>\n      <td>NaN</td>\n      <td>S</td>\n    </tr>\n    <tr>\n      <th>1</th>\n      <td>2</td>\n      <td>1</td>\n      <td>1</td>\n      <td>Cumings, Mrs. John Bradley (Florence Briggs Th...</td>\n      <td>female</td>\n      <td>38.0</td>\n      <td>1</td>\n      <td>0</td>\n      <td>PC 17599</td>\n      <td>71.2833</td>\n      <td>C85</td>\n      <td>C</td>\n    </tr>\n    <tr>\n      <th>2</th>\n      <td>3</td>\n      <td>1</td>\n      <td>3</td>\n      <td>Heikkinen, Miss. Laina</td>\n      <td>female</td>\n      <td>26.0</td>\n      <td>0</td>\n      <td>0</td>\n      <td>STON/O2. 3101282</td>\n      <td>7.9250</td>\n      <td>NaN</td>\n      <td>S</td>\n    </tr>\n    <tr>\n      <th>3</th>\n      <td>4</td>\n      <td>1</td>\n      <td>1</td>\n      <td>Futrelle, Mrs. Jacques Heath (Lily May Peel)</td>\n      <td>female</td>\n      <td>35.0</td>\n      <td>1</td>\n      <td>0</td>\n      <td>113803</td>\n      <td>53.1000</td>\n      <td>C123</td>\n      <td>S</td>\n    </tr>\n    <tr>\n      <th>4</th>\n      <td>5</td>\n      <td>0</td>\n      <td>3</td>\n      <td>Allen, Mr. William Henry</td>\n      <td>male</td>\n      <td>35.0</td>\n      <td>0</td>\n      <td>0</td>\n      <td>373450</td>\n      <td>8.0500</td>\n      <td>NaN</td>\n      <td>S</td>\n    </tr>\n  </tbody>\n</table>\n</div>"
     },
     "execution_count": 2,
     "metadata": {},
     "output_type": "execute_result"
    }
   ],
   "source": [
    "titanic = pd.read_csv(\"titanic_data.csv\")\n",
    "titanic.head()"
   ],
   "metadata": {
    "collapsed": false
   }
  },
  {
   "cell_type": "markdown",
   "source": [
    "## Initial investigation of the data set"
   ],
   "metadata": {
    "collapsed": false
   }
  },
  {
   "cell_type": "code",
   "execution_count": 3,
   "outputs": [
    {
     "data": {
      "text/plain": "       PassengerId    Survived      Pclass         Age       SibSp  \\\ncount   891.000000  891.000000  891.000000  714.000000  891.000000   \nmean    446.000000    0.383838    2.308642   29.699118    0.523008   \nstd     257.353842    0.486592    0.836071   14.526497    1.102743   \nmin       1.000000    0.000000    1.000000    0.420000    0.000000   \n25%     223.500000    0.000000    2.000000   20.125000    0.000000   \n50%     446.000000    0.000000    3.000000   28.000000    0.000000   \n75%     668.500000    1.000000    3.000000   38.000000    1.000000   \nmax     891.000000    1.000000    3.000000   80.000000    8.000000   \n\n            Parch        Fare  \ncount  891.000000  891.000000  \nmean     0.381594   32.204208  \nstd      0.806057   49.693429  \nmin      0.000000    0.000000  \n25%      0.000000    7.910400  \n50%      0.000000   14.454200  \n75%      0.000000   31.000000  \nmax      6.000000  512.329200  ",
      "text/html": "<div>\n<style scoped>\n    .dataframe tbody tr th:only-of-type {\n        vertical-align: middle;\n    }\n\n    .dataframe tbody tr th {\n        vertical-align: top;\n    }\n\n    .dataframe thead th {\n        text-align: right;\n    }\n</style>\n<table border=\"1\" class=\"dataframe\">\n  <thead>\n    <tr style=\"text-align: right;\">\n      <th></th>\n      <th>PassengerId</th>\n      <th>Survived</th>\n      <th>Pclass</th>\n      <th>Age</th>\n      <th>SibSp</th>\n      <th>Parch</th>\n      <th>Fare</th>\n    </tr>\n  </thead>\n  <tbody>\n    <tr>\n      <th>count</th>\n      <td>891.000000</td>\n      <td>891.000000</td>\n      <td>891.000000</td>\n      <td>714.000000</td>\n      <td>891.000000</td>\n      <td>891.000000</td>\n      <td>891.000000</td>\n    </tr>\n    <tr>\n      <th>mean</th>\n      <td>446.000000</td>\n      <td>0.383838</td>\n      <td>2.308642</td>\n      <td>29.699118</td>\n      <td>0.523008</td>\n      <td>0.381594</td>\n      <td>32.204208</td>\n    </tr>\n    <tr>\n      <th>std</th>\n      <td>257.353842</td>\n      <td>0.486592</td>\n      <td>0.836071</td>\n      <td>14.526497</td>\n      <td>1.102743</td>\n      <td>0.806057</td>\n      <td>49.693429</td>\n    </tr>\n    <tr>\n      <th>min</th>\n      <td>1.000000</td>\n      <td>0.000000</td>\n      <td>1.000000</td>\n      <td>0.420000</td>\n      <td>0.000000</td>\n      <td>0.000000</td>\n      <td>0.000000</td>\n    </tr>\n    <tr>\n      <th>25%</th>\n      <td>223.500000</td>\n      <td>0.000000</td>\n      <td>2.000000</td>\n      <td>20.125000</td>\n      <td>0.000000</td>\n      <td>0.000000</td>\n      <td>7.910400</td>\n    </tr>\n    <tr>\n      <th>50%</th>\n      <td>446.000000</td>\n      <td>0.000000</td>\n      <td>3.000000</td>\n      <td>28.000000</td>\n      <td>0.000000</td>\n      <td>0.000000</td>\n      <td>14.454200</td>\n    </tr>\n    <tr>\n      <th>75%</th>\n      <td>668.500000</td>\n      <td>1.000000</td>\n      <td>3.000000</td>\n      <td>38.000000</td>\n      <td>1.000000</td>\n      <td>0.000000</td>\n      <td>31.000000</td>\n    </tr>\n    <tr>\n      <th>max</th>\n      <td>891.000000</td>\n      <td>1.000000</td>\n      <td>3.000000</td>\n      <td>80.000000</td>\n      <td>8.000000</td>\n      <td>6.000000</td>\n      <td>512.329200</td>\n    </tr>\n  </tbody>\n</table>\n</div>"
     },
     "execution_count": 3,
     "metadata": {},
     "output_type": "execute_result"
    }
   ],
   "source": [
    "titanic.describe()"
   ],
   "metadata": {
    "collapsed": false
   }
  },
  {
   "cell_type": "code",
   "execution_count": 4,
   "outputs": [
    {
     "name": "stdout",
     "output_type": "stream",
     "text": [
      "<class 'pandas.core.frame.DataFrame'>\n",
      "RangeIndex: 891 entries, 0 to 890\n",
      "Data columns (total 12 columns):\n",
      " #   Column       Non-Null Count  Dtype  \n",
      "---  ------       --------------  -----  \n",
      " 0   PassengerId  891 non-null    int64  \n",
      " 1   Survived     891 non-null    int64  \n",
      " 2   Pclass       891 non-null    int64  \n",
      " 3   Name         891 non-null    object \n",
      " 4   Sex          891 non-null    object \n",
      " 5   Age          714 non-null    float64\n",
      " 6   SibSp        891 non-null    int64  \n",
      " 7   Parch        891 non-null    int64  \n",
      " 8   Ticket       891 non-null    object \n",
      " 9   Fare         891 non-null    float64\n",
      " 10  Cabin        204 non-null    object \n",
      " 11  Embarked     889 non-null    object \n",
      "dtypes: float64(2), int64(5), object(5)\n",
      "memory usage: 83.7+ KB\n"
     ]
    }
   ],
   "source": [
    "titanic.info()"
   ],
   "metadata": {
    "collapsed": false
   }
  },
  {
   "cell_type": "code",
   "execution_count": 5,
   "outputs": [
    {
     "data": {
      "text/plain": "<Figure size 1080x1080 with 1 Axes>",
      "image/png": "[encoded data removed]"
     },
     "metadata": {},
     "output_type": "display_data"
    }
   ],
   "source": [
    "#set figure size\n",
    "plt.figure(figsize=(15,15))\n",
    "\n",
    "# create heatmap\n",
    "sns.heatmap(titanic.isna(), cbar=False)\n",
    "\n",
    "plt.title(\"NaN Heatmap for Titanic Dataset\")\n",
    "# plt.yticks(np.arange(0, titanic.shape[0], 500))\n",
    "plt.xlabel(\"Column Name\")\n",
    "plt.ylabel(\"Row Index\")\n",
    "\n",
    "#save to file\n",
    "# plt.savefig(\"plots/titanic_nan_heat.png\")\n",
    "\n",
    "plt.show()"
   ],
   "metadata": {
    "collapsed": false
   }
  },
  {
   "cell_type": "code",
   "execution_count": 6,
   "outputs": [
    {
     "data": {
      "text/plain": "     PassengerId  Survived  Pclass                                       Name  \\\n61            62         1       1                        Icard, Miss. Amelie   \n829          830         1       1  Stone, Mrs. George Nelson (Martha Evelyn)   \n\n        Sex   Age  SibSp  Parch  Ticket  Fare Cabin Embarked  \n61   female  38.0      0      0  113572  80.0   B28      NaN  \n829  female  62.0      0      0  113572  80.0   B28      NaN  ",
      "text/html": "<div>\n<style scoped>\n    .dataframe tbody tr th:only-of-type {\n        vertical-align: middle;\n    }\n\n    .dataframe tbody tr th {\n        vertical-align: top;\n    }\n\n    .dataframe thead th {\n        text-align: right;\n    }\n</style>\n<table border=\"1\" class=\"dataframe\">\n  <thead>\n    <tr style=\"text-align: right;\">\n      <th></th>\n      <th>PassengerId</th>\n      <th>Survived</th>\n      <th>Pclass</th>\n      <th>Name</th>\n      <th>Sex</th>\n      <th>Age</th>\n      <th>SibSp</th>\n      <th>Parch</th>\n      <th>Ticket</th>\n      <th>Fare</th>\n      <th>Cabin</th>\n      <th>Embarked</th>\n    </tr>\n  </thead>\n  <tbody>\n    <tr>\n      <th>61</th>\n      <td>62</td>\n      <td>1</td>\n      <td>1</td>\n      <td>Icard, Miss. Amelie</td>\n      <td>female</td>\n      <td>38.0</td>\n      <td>0</td>\n      <td>0</td>\n      <td>113572</td>\n      <td>80.0</td>\n      <td>B28</td>\n      <td>NaN</td>\n    </tr>\n    <tr>\n      <th>829</th>\n      <td>830</td>\n      <td>1</td>\n      <td>1</td>\n      <td>Stone, Mrs. George Nelson (Martha Evelyn)</td>\n      <td>female</td>\n      <td>62.0</td>\n      <td>0</td>\n      <td>0</td>\n      <td>113572</td>\n      <td>80.0</td>\n      <td>B28</td>\n      <td>NaN</td>\n    </tr>\n  </tbody>\n</table>\n</div>"
     },
     "execution_count": 6,
     "metadata": {},
     "output_type": "execute_result"
    }
   ],
   "source": [
    "titanic[titanic.Embarked.isna()]"
   ],
   "metadata": {
    "collapsed": false
   }
  },
  {
   "cell_type": "markdown",
   "source": [
    "\n",
    "\n",
    "## Convert appropriate columns to category data types\n",
    "\n",
    "Conversion to the Category data type can save resources and increase the speed of processing.\n",
    "\n"
   ],
   "metadata": {
    "collapsed": false
   }
  },
  {
   "cell_type": "code",
   "execution_count": 7,
   "outputs": [],
   "source": [
    "# The Pclass column is converted to a Category data type\n",
    "class_category = pd.api.types.CategoricalDtype(categories=[3,2,1], ordered=True)\n",
    "titanic.Pclass = titanic.Pclass.astype(class_category)"
   ],
   "metadata": {
    "collapsed": false
   }
  },
  {
   "cell_type": "markdown",
   "source": [
    "**The Embarked column's values are changed to something more meaningful than the abbreviated embarcation points provided before conversion to the Category data type.**"
   ],
   "metadata": {
    "collapsed": false
   }
  },
  {
   "cell_type": "code",
   "execution_count": 8,
   "outputs": [
    {
     "data": {
      "text/plain": "S      644\nC      168\nQ       77\nNaN      2\nName: Embarked, dtype: int64"
     },
     "execution_count": 8,
     "metadata": {},
     "output_type": "execute_result"
    }
   ],
   "source": [
    "# Checking the number of distinct values in the Embarked column\n",
    "titanic.Embarked.value_counts(dropna=False)"
   ],
   "metadata": {
    "collapsed": false
   }
  },
  {
   "cell_type": "code",
   "execution_count": 9,
   "outputs": [
    {
     "data": {
      "text/plain": "0    Southampton\n1      Cherbourg\n2    Southampton\n3    Southampton\n4    Southampton\nName: Embarked, dtype: object"
     },
     "execution_count": 9,
     "metadata": {},
     "output_type": "execute_result"
    }
   ],
   "source": [
    "# Change the values to their full description\n",
    "titanic.Embarked = titanic.Embarked.map({'C': 'Cherbourg', 'Q': 'Queenstown', 'S': 'Southampton'})\n",
    "titanic.Embarked.head()"
   ],
   "metadata": {
    "collapsed": false
   }
  },
  {
   "cell_type": "code",
   "execution_count": 10,
   "outputs": [],
   "source": [
    "# The Embarked column is changed to the Category data type\n",
    "embarked_category = pd.CategoricalDtype(categories=['Cherbourg', 'Queenstown', 'Southampton'])\n",
    "titanic.Embarked = titanic.Embarked.astype(embarked_category)"
   ],
   "metadata": {
    "collapsed": false
   }
  },
  {
   "cell_type": "code",
   "execution_count": 11,
   "outputs": [],
   "source": [
    "# The Sex column is changed to the Category data type\n",
    "sex_category = pd.CategoricalDtype(categories=['male', 'female'])\n",
    "titanic.Sex = titanic.Sex.astype(sex_category)"
   ],
   "metadata": {
    "collapsed": false
   }
  },
  {
   "cell_type": "code",
   "execution_count": 12,
   "outputs": [
    {
     "data": {
      "text/plain": "PassengerId       int64\nSurvived          int64\nPclass         category\nName             object\nSex            category\nAge             float64\nSibSp             int64\nParch             int64\nTicket           object\nFare            float64\nCabin            object\nEmbarked       category\ndtype: object"
     },
     "execution_count": 12,
     "metadata": {},
     "output_type": "execute_result"
    }
   ],
   "source": [
    "titanic.dtypes"
   ],
   "metadata": {
    "collapsed": false
   }
  },
  {
   "cell_type": "code",
   "execution_count": 13,
   "outputs": [
    {
     "data": {
      "text/plain": "     PassengerId  Survived Pclass  \\\n577          578         1      1   \n447          448         1      1   \n399          400         1      2   \n726          727         1      2   \n187          188         1      1   \n757          758         0      2   \n512          513         1      1   \n375          376         1      1   \n290          291         1      1   \n438          439         0      1   \n\n                                              Name     Sex   Age  SibSp  \\\n577      Silvey, Mrs. William Baird (Alice Munger)  female  39.0      1   \n447                    Seward, Mr. Frederic Kimber    male  34.0      0   \n399               Trout, Mrs. William H (Jessie L)  female  28.0      0   \n726    Renouf, Mrs. Peter Henry (Lillian Jefferys)  female  30.0      3   \n187  Romaine, Mr. Charles Hallace (\"Mr C Rolmane\")    male  45.0      0   \n757                       Bailey, Mr. Percy Andrew    male  18.0      0   \n512                      McGough, Mr. James Robert    male  36.0      0   \n375          Meyer, Mrs. Edgar Joseph (Leila Saks)  female   NaN      1   \n290                   Barber, Miss. Ellen \"Nellie\"  female  26.0      0   \n438                              Fortune, Mr. Mark    male  64.0      1   \n\n     Parch    Ticket      Fare        Cabin     Embarked  \n577      0     13507   55.9000          E44  Southampton  \n447      0    113794   26.5500          NaN  Southampton  \n399      0    240929   12.6500          NaN  Southampton  \n726      0     31027   21.0000          NaN  Southampton  \n187      0    111428   26.5500          NaN  Southampton  \n757      0     29108   11.5000          NaN  Southampton  \n512      0  PC 17473   26.2875          E25  Southampton  \n375      0  PC 17604   82.1708          NaN    Cherbourg  \n290      0     19877   78.8500          NaN  Southampton  \n438      4     19950  263.0000  C23 C25 C27  Southampton  ",
      "text/html": "<div>\n<style scoped>\n    .dataframe tbody tr th:only-of-type {\n        vertical-align: middle;\n    }\n\n    .dataframe tbody tr th {\n        vertical-align: top;\n    }\n\n    .dataframe thead th {\n        text-align: right;\n    }\n</style>\n<table border=\"1\" class=\"dataframe\">\n  <thead>\n    <tr style=\"text-align: right;\">\n      <th></th>\n      <th>PassengerId</th>\n      <th>Survived</th>\n      <th>Pclass</th>\n      <th>Name</th>\n      <th>Sex</th>\n      <th>Age</th>\n      <th>SibSp</th>\n      <th>Parch</th>\n      <th>Ticket</th>\n      <th>Fare</th>\n      <th>Cabin</th>\n      <th>Embarked</th>\n    </tr>\n  </thead>\n  <tbody>\n    <tr>\n      <th>577</th>\n      <td>578</td>\n      <td>1</td>\n      <td>1</td>\n      <td>Silvey, Mrs. William Baird (Alice Munger)</td>\n      <td>female</td>\n      <td>39.0</td>\n      <td>1</td>\n      <td>0</td>\n      <td>13507</td>\n      <td>55.9000</td>\n      <td>E44</td>\n      <td>Southampton</td>\n    </tr>\n    <tr>\n      <th>447</th>\n      <td>448</td>\n      <td>1</td>\n      <td>1</td>\n      <td>Seward, Mr. Frederic Kimber</td>\n      <td>male</td>\n      <td>34.0</td>\n      <td>0</td>\n      <td>0</td>\n      <td>113794</td>\n      <td>26.5500</td>\n      <td>NaN</td>\n      <td>Southampton</td>\n    </tr>\n    <tr>\n      <th>399</th>\n      <td>400</td>\n      <td>1</td>\n      <td>2</td>\n      <td>Trout, Mrs. William H (Jessie L)</td>\n      <td>female</td>\n      <td>28.0</td>\n      <td>0</td>\n      <td>0</td>\n      <td>240929</td>\n      <td>12.6500</td>\n      <td>NaN</td>\n      <td>Southampton</td>\n    </tr>\n    <tr>\n      <th>726</th>\n      <td>727</td>\n      <td>1</td>\n      <td>2</td>\n      <td>Renouf, Mrs. Peter Henry (Lillian Jefferys)</td>\n      <td>female</td>\n      <td>30.0</td>\n      <td>3</td>\n      <td>0</td>\n      <td>31027</td>\n      <td>21.0000</td>\n      <td>NaN</td>\n      <td>Southampton</td>\n    </tr>\n    <tr>\n      <th>187</th>\n      <td>188</td>\n      <td>1</td>\n      <td>1</td>\n      <td>Romaine, Mr. Charles Hallace (\"Mr C Rolmane\")</td>\n      <td>male</td>\n      <td>45.0</td>\n      <td>0</td>\n      <td>0</td>\n      <td>111428</td>\n      <td>26.5500</td>\n      <td>NaN</td>\n      <td>Southampton</td>\n    </tr>\n    <tr>\n      <th>757</th>\n      <td>758</td>\n      <td>0</td>\n      <td>2</td>\n      <td>Bailey, Mr. Percy Andrew</td>\n      <td>male</td>\n      <td>18.0</td>\n      <td>0</td>\n      <td>0</td>\n      <td>29108</td>\n      <td>11.5000</td>\n      <td>NaN</td>\n      <td>Southampton</td>\n    </tr>\n    <tr>\n      <th>512</th>\n      <td>513</td>\n      <td>1</td>\n      <td>1</td>\n      <td>McGough, Mr. James Robert</td>\n      <td>male</td>\n      <td>36.0</td>\n      <td>0</td>\n      <td>0</td>\n      <td>PC 17473</td>\n      <td>26.2875</td>\n      <td>E25</td>\n      <td>Southampton</td>\n    </tr>\n    <tr>\n      <th>375</th>\n      <td>376</td>\n      <td>1</td>\n      <td>1</td>\n      <td>Meyer, Mrs. Edgar Joseph (Leila Saks)</td>\n      <td>female</td>\n      <td>NaN</td>\n      <td>1</td>\n      <td>0</td>\n      <td>PC 17604</td>\n      <td>82.1708</td>\n      <td>NaN</td>\n      <td>Cherbourg</td>\n    </tr>\n    <tr>\n      <th>290</th>\n      <td>291</td>\n      <td>1</td>\n      <td>1</td>\n      <td>Barber, Miss. Ellen \"Nellie\"</td>\n      <td>female</td>\n      <td>26.0</td>\n      <td>0</td>\n      <td>0</td>\n      <td>19877</td>\n      <td>78.8500</td>\n      <td>NaN</td>\n      <td>Southampton</td>\n    </tr>\n    <tr>\n      <th>438</th>\n      <td>439</td>\n      <td>0</td>\n      <td>1</td>\n      <td>Fortune, Mr. Mark</td>\n      <td>male</td>\n      <td>64.0</td>\n      <td>1</td>\n      <td>4</td>\n      <td>19950</td>\n      <td>263.0000</td>\n      <td>C23 C25 C27</td>\n      <td>Southampton</td>\n    </tr>\n  </tbody>\n</table>\n</div>"
     },
     "execution_count": 13,
     "metadata": {},
     "output_type": "execute_result"
    }
   ],
   "source": [
    "# testing the ordering of the Pclass categories\n",
    "titanic[titanic.Pclass > 3].sample(10)"
   ],
   "metadata": {
    "collapsed": false
   }
  },
  {
   "cell_type": "code",
   "execution_count": 14,
   "outputs": [],
   "source": [
    "# Creating a column using bins with pd.cut() creates a series with the Category data type\n",
    "age_bins = [0, 18, 40, 65,120]\n",
    "age_bin_labels = ['Child', 'Adult', 'Middle Aged', 'Senior']\n",
    "\n",
    "titanic.insert(value=pd.cut(titanic.Age, bins=age_bins, labels=age_bin_labels), loc=6, column='Age Range')"
   ],
   "metadata": {
    "collapsed": false
   }
  },
  {
   "cell_type": "code",
   "execution_count": 15,
   "outputs": [
    {
     "data": {
      "text/plain": "PassengerId       int64\nSurvived          int64\nPclass         category\nName             object\nSex            category\nAge             float64\nAge Range      category\nSibSp             int64\nParch             int64\nTicket           object\nFare            float64\nCabin            object\nEmbarked       category\ndtype: object"
     },
     "execution_count": 15,
     "metadata": {},
     "output_type": "execute_result"
    }
   ],
   "source": [
    "titanic.dtypes"
   ],
   "metadata": {
    "collapsed": false
   }
  },
  {
   "cell_type": "code",
   "execution_count": 16,
   "outputs": [
    {
     "data": {
      "text/plain": "      Age    Age Range\n263  40.0        Adult\n881  33.0        Adult\n460  48.0  Middle Aged\n653   NaN          NaN\n233   5.0        Child",
      "text/html": "<div>\n<style scoped>\n    .dataframe tbody tr th:only-of-type {\n        vertical-align: middle;\n    }\n\n    .dataframe tbody tr th {\n        vertical-align: top;\n    }\n\n    .dataframe thead th {\n        text-align: right;\n    }\n</style>\n<table border=\"1\" class=\"dataframe\">\n  <thead>\n    <tr style=\"text-align: right;\">\n      <th></th>\n      <th>Age</th>\n      <th>Age Range</th>\n    </tr>\n  </thead>\n  <tbody>\n    <tr>\n      <th>263</th>\n      <td>40.0</td>\n      <td>Adult</td>\n    </tr>\n    <tr>\n      <th>881</th>\n      <td>33.0</td>\n      <td>Adult</td>\n    </tr>\n    <tr>\n      <th>460</th>\n      <td>48.0</td>\n      <td>Middle Aged</td>\n    </tr>\n    <tr>\n      <th>653</th>\n      <td>NaN</td>\n      <td>NaN</td>\n    </tr>\n    <tr>\n      <th>233</th>\n      <td>5.0</td>\n      <td>Child</td>\n    </tr>\n  </tbody>\n</table>\n</div>"
     },
     "execution_count": 16,
     "metadata": {},
     "output_type": "execute_result"
    }
   ],
   "source": [
    "titanic[['Age', 'Age Range']].sample(5)"
   ],
   "metadata": {
    "collapsed": false
   }
  },
  {
   "cell_type": "code",
   "execution_count": 17,
   "outputs": [
    {
     "data": {
      "text/plain": "0.125"
     },
     "execution_count": 17,
     "metadata": {},
     "output_type": "execute_result"
    }
   ],
   "source": [
    "titanic[titanic['Age Range'] > 'Middle Aged'].Survived.mean()"
   ],
   "metadata": {
    "collapsed": false
   }
  },
  {
   "cell_type": "code",
   "execution_count": 18,
   "outputs": [],
   "source": [
    "survivability_by_age_class_sex = titanic.groupby(['Age Range', 'Pclass', 'Sex'], as_index=False).agg([np.mean, 'count', np.sum])['Survived'].sort_values(by='mean', ascending=False)\n",
    "\n",
    "survivability_by_age_class_sex.rename(columns={'mean': 'pct survived', 'sum': 'no of survivors', 'count': 'total no of people'}, inplace=True)"
   ],
   "metadata": {
    "collapsed": false
   }
  },
  {
   "cell_type": "code",
   "execution_count": 19,
   "outputs": [
    {
     "data": {
      "text/plain": "(24, 3)"
     },
     "execution_count": 19,
     "metadata": {},
     "output_type": "execute_result"
    }
   ],
   "source": [
    "survivability_by_age_class_sex.shape"
   ],
   "metadata": {
    "collapsed": false
   }
  },
  {
   "cell_type": "code",
   "execution_count": 20,
   "outputs": [],
   "source": [
    "survivability_by_age_class_sex.reset_index(inplace=True)"
   ],
   "metadata": {
    "collapsed": false
   }
  },
  {
   "cell_type": "code",
   "execution_count": 21,
   "outputs": [
    {
     "data": {
      "text/plain": "      Age Range Pclass     Sex  pct survived  total no of people  \\\n0         Child      2  female      1.000000                  14   \n1         Adult      1  female      0.979167                  48   \n2   Middle Aged      1  female      0.961538                  26   \n3         Adult      2  female      0.914894                  47   \n4         Child      1  female      0.909091                  11   \n5   Middle Aged      2  female      0.846154                  13   \n6         Child      1    male      0.800000                   5   \n7         Child      2    male      0.600000                  15   \n8         Child      3  female      0.511628                  43   \n9         Adult      3  female      0.480000                  50   \n10        Adult      1    male      0.478261                  46   \n11  Middle Aged      1    male      0.282609                  46   \n12       Senior      1    male      0.250000                   4   \n13        Child      3    male      0.215686                  51   \n14        Adult      3    male      0.146199                 171   \n15  Middle Aged      3  female      0.111111                   9   \n16  Middle Aged      2    male      0.105263                  19   \n17  Middle Aged      3    male      0.068966                  29   \n18        Adult      2    male      0.063492                  63   \n19       Senior      3    male      0.000000                   2   \n20       Senior      2    male      0.000000                   2   \n21       Senior      3  female           NaN                   0   \n22       Senior      2  female           NaN                   0   \n23       Senior      1  female           NaN                   0   \n\n    no of survivors  \n0                14  \n1                47  \n2                25  \n3                43  \n4                10  \n5                11  \n6                 4  \n7                 9  \n8                22  \n9                24  \n10               22  \n11               13  \n12                1  \n13               11  \n14               25  \n15                1  \n16                2  \n17                2  \n18                4  \n19                0  \n20                0  \n21                0  \n22                0  \n23                0  ",
      "text/html": "<div>\n<style scoped>\n    .dataframe tbody tr th:only-of-type {\n        vertical-align: middle;\n    }\n\n    .dataframe tbody tr th {\n        vertical-align: top;\n    }\n\n    .dataframe thead th {\n        text-align: right;\n    }\n</style>\n<table border=\"1\" class=\"dataframe\">\n  <thead>\n    <tr style=\"text-align: right;\">\n      <th></th>\n      <th>Age Range</th>\n      <th>Pclass</th>\n      <th>Sex</th>\n      <th>pct survived</th>\n      <th>total no of people</th>\n      <th>no of survivors</th>\n    </tr>\n  </thead>\n  <tbody>\n    <tr>\n      <th>0</th>\n      <td>Child</td>\n      <td>2</td>\n      <td>female</td>\n      <td>1.000000</td>\n      <td>14</td>\n      <td>14</td>\n    </tr>\n    <tr>\n      <th>1</th>\n      <td>Adult</td>\n      <td>1</td>\n      <td>female</td>\n      <td>0.979167</td>\n      <td>48</td>\n      <td>47</td>\n    </tr>\n    <tr>\n      <th>2</th>\n      <td>Middle Aged</td>\n      <td>1</td>\n      <td>female</td>\n      <td>0.961538</td>\n      <td>26</td>\n      <td>25</td>\n    </tr>\n    <tr>\n      <th>3</th>\n      <td>Adult</td>\n      <td>2</td>\n      <td>female</td>\n      <td>0.914894</td>\n      <td>47</td>\n      <td>43</td>\n    </tr>\n    <tr>\n      <th>4</th>\n      <td>Child</td>\n      <td>1</td>\n      <td>female</td>\n      <td>0.909091</td>\n      <td>11</td>\n      <td>10</td>\n    </tr>\n    <tr>\n      <th>5</th>\n      <td>Middle Aged</td>\n      <td>2</td>\n      <td>female</td>\n      <td>0.846154</td>\n      <td>13</td>\n      <td>11</td>\n    </tr>\n    <tr>\n      <th>6</th>\n      <td>Child</td>\n      <td>1</td>\n      <td>male</td>\n      <td>0.800000</td>\n      <td>5</td>\n      <td>4</td>\n    </tr>\n    <tr>\n      <th>7</th>\n      <td>Child</td>\n      <td>2</td>\n      <td>male</td>\n      <td>0.600000</td>\n      <td>15</td>\n      <td>9</td>\n    </tr>\n    <tr>\n      <th>8</th>\n      <td>Child</td>\n      <td>3</td>\n      <td>female</td>\n      <td>0.511628</td>\n      <td>43</td>\n      <td>22</td>\n    </tr>\n    <tr>\n      <th>9</th>\n      <td>Adult</td>\n      <td>3</td>\n      <td>female</td>\n      <td>0.480000</td>\n      <td>50</td>\n      <td>24</td>\n    </tr>\n    <tr>\n      <th>10</th>\n      <td>Adult</td>\n      <td>1</td>\n      <td>male</td>\n      <td>0.478261</td>\n      <td>46</td>\n      <td>22</td>\n    </tr>\n    <tr>\n      <th>11</th>\n      <td>Middle Aged</td>\n      <td>1</td>\n      <td>male</td>\n      <td>0.282609</td>\n      <td>46</td>\n      <td>13</td>\n    </tr>\n    <tr>\n      <th>12</th>\n      <td>Senior</td>\n      <td>1</td>\n      <td>male</td>\n      <td>0.250000</td>\n      <td>4</td>\n      <td>1</td>\n    </tr>\n    <tr>\n      <th>13</th>\n      <td>Child</td>\n      <td>3</td>\n      <td>male</td>\n      <td>0.215686</td>\n      <td>51</td>\n      <td>11</td>\n    </tr>\n    <tr>\n      <th>14</th>\n      <td>Adult</td>\n      <td>3</td>\n      <td>male</td>\n      <td>0.146199</td>\n      <td>171</td>\n      <td>25</td>\n    </tr>\n    <tr>\n      <th>15</th>\n      <td>Middle Aged</td>\n      <td>3</td>\n      <td>female</td>\n      <td>0.111111</td>\n      <td>9</td>\n      <td>1</td>\n    </tr>\n    <tr>\n      <th>16</th>\n      <td>Middle Aged</td>\n      <td>2</td>\n      <td>male</td>\n      <td>0.105263</td>\n      <td>19</td>\n      <td>2</td>\n    </tr>\n    <tr>\n      <th>17</th>\n      <td>Middle Aged</td>\n      <td>3</td>\n      <td>male</td>\n      <td>0.068966</td>\n      <td>29</td>\n      <td>2</td>\n    </tr>\n    <tr>\n      <th>18</th>\n      <td>Adult</td>\n      <td>2</td>\n      <td>male</td>\n      <td>0.063492</td>\n      <td>63</td>\n      <td>4</td>\n    </tr>\n    <tr>\n      <th>19</th>\n      <td>Senior</td>\n      <td>3</td>\n      <td>male</td>\n      <td>0.000000</td>\n      <td>2</td>\n      <td>0</td>\n    </tr>\n    <tr>\n      <th>20</th>\n      <td>Senior</td>\n      <td>2</td>\n      <td>male</td>\n      <td>0.000000</td>\n      <td>2</td>\n      <td>0</td>\n    </tr>\n    <tr>\n      <th>21</th>\n      <td>Senior</td>\n      <td>3</td>\n      <td>female</td>\n      <td>NaN</td>\n      <td>0</td>\n      <td>0</td>\n    </tr>\n    <tr>\n      <th>22</th>\n      <td>Senior</td>\n      <td>2</td>\n      <td>female</td>\n      <td>NaN</td>\n      <td>0</td>\n      <td>0</td>\n    </tr>\n    <tr>\n      <th>23</th>\n      <td>Senior</td>\n      <td>1</td>\n      <td>female</td>\n      <td>NaN</td>\n      <td>0</td>\n      <td>0</td>\n    </tr>\n  </tbody>\n</table>\n</div>"
     },
     "execution_count": 21,
     "metadata": {},
     "output_type": "execute_result"
    }
   ],
   "source": [
    "survivability_by_age_class_sex"
   ],
   "metadata": {
    "collapsed": false
   }
  },
  {
   "cell_type": "code",
   "execution_count": 22,
   "outputs": [
    {
     "data": {
      "text/plain": "-0.5064272698396611"
     },
     "execution_count": 22,
     "metadata": {},
     "output_type": "execute_result"
    }
   ],
   "source": [
    "survivability_by_age_class_sex.Pclass.corr(survivability_by_age_class_sex['pct survived'])"
   ],
   "metadata": {
    "collapsed": false
   }
  },
  {
   "cell_type": "code",
   "execution_count": 23,
   "outputs": [],
   "source": [
    "embark_group = titanic.groupby(['Embarked'], as_index=False)"
   ],
   "metadata": {
    "collapsed": false
   }
  },
  {
   "cell_type": "code",
   "execution_count": 24,
   "outputs": [
    {
     "data": {
      "text/plain": "      Embarked  Survived\n0    Cherbourg  0.553571\n1   Queenstown  0.389610\n2  Southampton  0.336957",
      "text/html": "<div>\n<style scoped>\n    .dataframe tbody tr th:only-of-type {\n        vertical-align: middle;\n    }\n\n    .dataframe tbody tr th {\n        vertical-align: top;\n    }\n\n    .dataframe thead th {\n        text-align: right;\n    }\n</style>\n<table border=\"1\" class=\"dataframe\">\n  <thead>\n    <tr style=\"text-align: right;\">\n      <th></th>\n      <th>Embarked</th>\n      <th>Survived</th>\n    </tr>\n  </thead>\n  <tbody>\n    <tr>\n      <th>0</th>\n      <td>Cherbourg</td>\n      <td>0.553571</td>\n    </tr>\n    <tr>\n      <th>1</th>\n      <td>Queenstown</td>\n      <td>0.389610</td>\n    </tr>\n    <tr>\n      <th>2</th>\n      <td>Southampton</td>\n      <td>0.336957</td>\n    </tr>\n  </tbody>\n</table>\n</div>"
     },
     "execution_count": 24,
     "metadata": {},
     "output_type": "execute_result"
    }
   ],
   "source": [
    "embark_group.Survived.mean()"
   ],
   "metadata": {
    "collapsed": false
   }
  },
  {
   "cell_type": "code",
   "execution_count": 24,
   "outputs": [],
   "source": [],
   "metadata": {
    "collapsed": false
   }
  }
 ],
 "metadata": {
  "kernelspec": {
   "display_name": "Python 3",
   "language": "python",
   "name": "python3"
  },
  "language_info": {
   "codemirror_mode": {
    "name": "ipython",
    "version": 2
   },
   "file_extension": ".py",
   "mimetype": "text/x-python",
   "name": "python",
   "nbconvert_exporter": "python",
   "pygments_lexer": "ipython2",
   "version": "2.7.6"
  }
 },
 "nbformat": 4,
 "nbformat_minor": 0
}
